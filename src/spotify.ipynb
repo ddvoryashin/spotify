{
 "cells": [
  {
   "cell_type": "code",
   "execution_count": 1,
   "metadata": {},
   "outputs": [],
   "source": [
    "import os\n",
    "import requests\n",
    "import pandas as pd\n",
    "import warnings\n",
    "import psycopg2\n",
    "import numpy as np\n",
    "from datetime import datetime, date, timedelta\n",
    "from get_spotify import *\n",
    "from credentials import *\n",
    "from db_loader import *\n",
    "from sqlalchemy import create_engine"
   ]
  },
  {
   "cell_type": "code",
   "execution_count": 2,
   "metadata": {},
   "outputs": [],
   "source": [
    "warnings.filterwarnings('ignore')\n",
    "TOKEN = get_token()"
   ]
  },
  {
   "cell_type": "code",
   "execution_count": 3,
   "metadata": {},
   "outputs": [
    {
     "data": {
      "text/plain": [
       "datetime.datetime(2023, 1, 1, 0, 0)"
      ]
     },
     "execution_count": 3,
     "metadata": {},
     "output_type": "execute_result"
    }
   ],
   "source": [
    "dt_from = '2023-01-01'\n",
    "dt_from = datetime.strptime(dt_from, \"%Y-%m-%d\")\n",
    "dt_from"
   ]
  },
  {
   "cell_type": "code",
   "execution_count": 4,
   "metadata": {},
   "outputs": [
    {
     "name": "stdout",
     "output_type": "stream",
     "text": [
      "date span in df: 2023-11-14 - 2024-04-05\n",
      "date span in df: 2023-10-05 - 2023-12-07\n",
      "'release_date'\n"
     ]
    }
   ],
   "source": [
    "df_albums_releases = get_albums_releases(token=TOKEN, dt_from=dt_from)"
   ]
  },
  {
   "cell_type": "code",
   "execution_count": 5,
   "metadata": {},
   "outputs": [
    {
     "name": "stdout",
     "output_type": "stream",
     "text": [
      "iteration 0; 20 ids requested\n",
      "iteration 1; 20 ids requested\n",
      "iteration 2; 20 ids requested\n",
      "iteration 3; 20 ids requested\n",
      "iteration 4; 20 ids requested\n",
      "iteration 5; 0 ids requested\n",
      "'albums'\n"
     ]
    }
   ],
   "source": [
    "df_albums = get_several_albums(TOKEN, df_albums_releases[\"id\"])"
   ]
  },
  {
   "cell_type": "code",
   "execution_count": 6,
   "metadata": {},
   "outputs": [],
   "source": [
    "df_albums[\"spotify_id\"] = df_albums[\"id\"]\n",
    "df_albums = df_albums[[\"spotify_id\", \"name\", \"release_date\", \"genres\", \"label\"]]"
   ]
  },
  {
   "cell_type": "code",
   "execution_count": 12,
   "metadata": {},
   "outputs": [
    {
     "name": "stdout",
     "output_type": "stream",
     "text": [
      "\n",
      "    INSERT INTO albums (spotify_id,name,release_date,genres,label)\n",
      "    VALUES %s\n",
      "    ON CONFLICT(spotify_id)\n",
      "    DO UPDATE SET\n",
      "    \tname = EXCLUDED.name,\n",
      "\trelease_date = EXCLUDED.release_date,\n",
      "\tgenres = EXCLUDED.genres,\n",
      "\tlabel = EXCLUDED.label\n",
      "    \n",
      "Values merged into albums\n"
     ]
    }
   ],
   "source": [
    "merge_values(df_albums, \"spotify_id\", \"albums\")"
   ]
  },
  {
   "cell_type": "code",
   "execution_count": 19,
   "metadata": {},
   "outputs": [
    {
     "name": "stdout",
     "output_type": "stream",
     "text": [
      "\n",
      "INSERT INTO\n",
      "VALUES %s\n",
      "ON CONFLICT()\n",
      "DO UPDATE SET\n",
      "\tname = EXCLUDED.name,\n",
      "\trelease_date = EXCLUDED.release_date,\n",
      "\tgenres = EXCLUDED.genres,\n",
      "\tlabel = EXCLUDED.label\n",
      "\n"
     ]
    }
   ],
   "source": [
    "upd_fields = \"\"\n",
    "for field in df_albums.columns:\n",
    "    if field != \"spotify_id\":\n",
    "        upd_fields = upd_fields + \"\\t\" + field + f\" = EXCLUDED.{field},\\n\"\n",
    "        \n",
    "query = f\"\"\"\n",
    "INSERT INTO\n",
    "VALUES %s\n",
    "ON CONFLICT()\n",
    "DO UPDATE SET\n",
    "{upd_fields[:-2]}\n",
    "\"\"\"\n",
    "print(query)"
   ]
  },
  {
   "cell_type": "code",
   "execution_count": 12,
   "metadata": {},
   "outputs": [
    {
     "data": {
      "text/plain": [
       "'name = EXCLUDED.{field},\\nrelease_date = EXCLUDED.{field},\\ngenres = EXCLUDED.{field},\\nlabel = EXCLUDED.{field}'"
      ]
     },
     "execution_count": 12,
     "metadata": {},
     "output_type": "execute_result"
    }
   ],
   "source": [
    "upd_fields[:-2]"
   ]
  },
  {
   "cell_type": "code",
   "execution_count": null,
   "metadata": {},
   "outputs": [],
   "source": [
    "\"\"\"\n",
    "name =  EXCLUDED.name,\n",
    "release_date = EXCLUDED.release_date,\n",
    "genres = EXCLUDED.genres,\n",
    "label = EXCLUDED.label\n",
    "\"\"\""
   ]
  },
  {
   "cell_type": "code",
   "execution_count": 14,
   "metadata": {},
   "outputs": [
    {
     "name": "stdout",
     "output_type": "stream",
     "text": [
      "the dataframe is inserted\n"
     ]
    }
   ],
   "source": [
    "conn = psycopg2.connect( \n",
    "    database=os.getenv(\"PG_DATABASE\"),\n",
    "    user=os.getenv(\"PG_USERNAME\"),\n",
    "    password=os.getenv(\"PG_PASSWORD\"),\n",
    "    host=os.getenv(\"PG_HOST\"),\n",
    "    port=os.getenv(\"PG_PORT\")\n",
    ")\n",
    "\n",
    "insert_values(conn=conn, df=df_albums, table=\"albums\")"
   ]
  },
  {
   "cell_type": "code",
   "execution_count": 32,
   "metadata": {},
   "outputs": [],
   "source": [
    "# get_several_artists.py\n",
    "\n",
    "albums_ids = get_albums_releases(token)\n",
    "df_albums = get_several_albums(token, albums_ids)\n",
    "artists_ids = []\n",
    "for alist in df_albums['artists_ids']:\n",
    "    artists_ids = artists_ids + alist\n",
    "\n",
    "headers = {\n",
    "    \"Authorization\": f\"Bearer {token}\"\n",
    "}\n",
    "params = {\n",
    "    \"ids\": ','.join(artists_ids)\n",
    "}\n",
    "response = requests.get(\n",
    "    \"https://api.spotify.com/v1/artists\",\n",
    "    headers=headers,\n",
    "    params=params\n",
    ")\n",
    "\n",
    "df = pd.json_normalize(response.json()[\"artists\"])\n",
    "df_out = df[['id', 'name', 'genres', 'popularity']]"
   ]
  },
  {
   "cell_type": "code",
   "execution_count": 11,
   "metadata": {},
   "outputs": [
    {
     "data": {
      "text/html": [
       "<div>\n",
       "<style scoped>\n",
       "    .dataframe tbody tr th:only-of-type {\n",
       "        vertical-align: middle;\n",
       "    }\n",
       "\n",
       "    .dataframe tbody tr th {\n",
       "        vertical-align: top;\n",
       "    }\n",
       "\n",
       "    .dataframe thead th {\n",
       "        text-align: right;\n",
       "    }\n",
       "</style>\n",
       "<table border=\"1\" class=\"dataframe\">\n",
       "  <thead>\n",
       "    <tr style=\"text-align: right;\">\n",
       "      <th></th>\n",
       "      <th>id</th>\n",
       "      <th>name</th>\n",
       "      <th>album.id</th>\n",
       "      <th>duration_ms</th>\n",
       "      <th>explicit</th>\n",
       "      <th>popularity</th>\n",
       "      <th>artists_ids</th>\n",
       "    </tr>\n",
       "  </thead>\n",
       "  <tbody>\n",
       "    <tr>\n",
       "      <th>0</th>\n",
       "      <td>3eP13S8D5m2cweMEg3ZDed</td>\n",
       "      <td>Virginia Beach</td>\n",
       "      <td>4czdORdCWP9umpbhFXK2fW</td>\n",
       "      <td>251094</td>\n",
       "      <td>True</td>\n",
       "      <td>79</td>\n",
       "      <td>[3TVXtAsR1Inumwj472S9r4]</td>\n",
       "    </tr>\n",
       "    <tr>\n",
       "      <th>1</th>\n",
       "      <td>0Mrnt1YqVuW2bqmwu4VxDt</td>\n",
       "      <td>Amen (feat. Teezo Touchdown)</td>\n",
       "      <td>4czdORdCWP9umpbhFXK2fW</td>\n",
       "      <td>141212</td>\n",
       "      <td>True</td>\n",
       "      <td>77</td>\n",
       "      <td>[3TVXtAsR1Inumwj472S9r4, 0fGcIStdT1OpFFhOC7Wp36]</td>\n",
       "    </tr>\n",
       "    <tr>\n",
       "      <th>2</th>\n",
       "      <td>2nibvvDdAQkVraYP00z2RS</td>\n",
       "      <td>Calling For You (feat. 21 Savage)</td>\n",
       "      <td>4czdORdCWP9umpbhFXK2fW</td>\n",
       "      <td>285630</td>\n",
       "      <td>True</td>\n",
       "      <td>78</td>\n",
       "      <td>[3TVXtAsR1Inumwj472S9r4, 1URnnhqYAYcrqrcwql10ft]</td>\n",
       "    </tr>\n",
       "    <tr>\n",
       "      <th>3</th>\n",
       "      <td>53KaP77tkliz36LPxWGlWK</td>\n",
       "      <td>Fear Of Heights</td>\n",
       "      <td>4czdORdCWP9umpbhFXK2fW</td>\n",
       "      <td>155154</td>\n",
       "      <td>True</td>\n",
       "      <td>78</td>\n",
       "      <td>[3TVXtAsR1Inumwj472S9r4]</td>\n",
       "    </tr>\n",
       "    <tr>\n",
       "      <th>4</th>\n",
       "      <td>4ZT0wGKwlJRjpMUuwZVy3p</td>\n",
       "      <td>Daylight</td>\n",
       "      <td>4czdORdCWP9umpbhFXK2fW</td>\n",
       "      <td>164142</td>\n",
       "      <td>True</td>\n",
       "      <td>78</td>\n",
       "      <td>[3TVXtAsR1Inumwj472S9r4]</td>\n",
       "    </tr>\n",
       "  </tbody>\n",
       "</table>\n",
       "</div>"
      ],
      "text/plain": [
       "                       id                               name  \\\n",
       "0  3eP13S8D5m2cweMEg3ZDed                     Virginia Beach   \n",
       "1  0Mrnt1YqVuW2bqmwu4VxDt       Amen (feat. Teezo Touchdown)   \n",
       "2  2nibvvDdAQkVraYP00z2RS  Calling For You (feat. 21 Savage)   \n",
       "3  53KaP77tkliz36LPxWGlWK                    Fear Of Heights   \n",
       "4  4ZT0wGKwlJRjpMUuwZVy3p                           Daylight   \n",
       "\n",
       "                 album.id  duration_ms  explicit  popularity  \\\n",
       "0  4czdORdCWP9umpbhFXK2fW       251094      True          79   \n",
       "1  4czdORdCWP9umpbhFXK2fW       141212      True          77   \n",
       "2  4czdORdCWP9umpbhFXK2fW       285630      True          78   \n",
       "3  4czdORdCWP9umpbhFXK2fW       155154      True          78   \n",
       "4  4czdORdCWP9umpbhFXK2fW       164142      True          78   \n",
       "\n",
       "                                        artists_ids  \n",
       "0                          [3TVXtAsR1Inumwj472S9r4]  \n",
       "1  [3TVXtAsR1Inumwj472S9r4, 0fGcIStdT1OpFFhOC7Wp36]  \n",
       "2  [3TVXtAsR1Inumwj472S9r4, 1URnnhqYAYcrqrcwql10ft]  \n",
       "3                          [3TVXtAsR1Inumwj472S9r4]  \n",
       "4                          [3TVXtAsR1Inumwj472S9r4]  "
      ]
     },
     "execution_count": 11,
     "metadata": {},
     "output_type": "execute_result"
    }
   ],
   "source": [
    "# get_several_tracks.py\n",
    "\n",
    "albums_ids = get_albums_releases(token)\n",
    "df_albums = get_several_albums(token, albums_ids)\n",
    "tracks_ids = []\n",
    "for tlist in df_albums['tracks_ids']:\n",
    "    tracks_ids = tracks_ids + tlist\n",
    "\n",
    "counter_from = 0\n",
    "counter_to = min(49, len(tracks_ids))\n",
    "\n",
    "df = pd.DataFrame()\n",
    "for i in range(int(len(tracks_ids) / counter_to) + 1):\n",
    "    # print(f'{counter_from}:{counter_to}')\n",
    "    \n",
    "    headers = {\n",
    "        \"Authorization\": f\"Bearer {token}\"\n",
    "    }\n",
    "    params = {\n",
    "        \"ids\": ','.join(tracks_ids[counter_from:counter_to])\n",
    "    }\n",
    "    response = requests.get(\n",
    "        \"https://api.spotify.com/v1/tracks\",\n",
    "        headers=headers,\n",
    "        params=params\n",
    "    )\n",
    "    \n",
    "    df_iter = pd.json_normalize(response.json()[\"tracks\"])\n",
    "    df = pd.concat([df, df_iter], ignore_index=True)\n",
    "    \n",
    "    counter_from += 50\n",
    "    counter_to += min(50, len(tracks_ids) - counter_to)\n",
    "\n",
    "df_tracks = df[[\"id\", \"name\", \"album.id\", \"duration_ms\", \"explicit\", \"popularity\"]]\n",
    "df_tracks[\"artists_ids\"] = df[\"artists\"].apply(lambda artists_data: [artist[\"id\"] for artist in artists_data])\n",
    "\n",
    "df_tracks.head()"
   ]
  },
  {
   "cell_type": "code",
   "execution_count": 28,
   "metadata": {},
   "outputs": [
    {
     "name": "stdout",
     "output_type": "stream",
     "text": [
      "0:50\n",
      "50:100\n",
      "100:150\n",
      "150:165\n"
     ]
    }
   ],
   "source": [
    "def iterate(num_tracks: int):\n",
    "    counter_from = 0\n",
    "    counter_to = min(50, num_tracks)\n",
    "\n",
    "    for i in range(int(num_tracks / counter_to) + 1):\n",
    "        print(f'{counter_from}:{counter_to}')\n",
    "        counter_from += 50\n",
    "        counter_to += min(50, num_tracks - counter_to)\n",
    "\n",
    "iterate(len(tracks_ids))"
   ]
  },
  {
   "cell_type": "code",
   "execution_count": null,
   "metadata": {},
   "outputs": [],
   "source": []
  }
 ],
 "metadata": {
  "kernelspec": {
   "display_name": "Python 3",
   "language": "python",
   "name": "python3"
  },
  "language_info": {
   "codemirror_mode": {
    "name": "ipython",
    "version": 3
   },
   "file_extension": ".py",
   "mimetype": "text/x-python",
   "name": "python",
   "nbconvert_exporter": "python",
   "pygments_lexer": "ipython3",
   "version": "3.10.4"
  },
  "orig_nbformat": 4
 },
 "nbformat": 4,
 "nbformat_minor": 2
}
